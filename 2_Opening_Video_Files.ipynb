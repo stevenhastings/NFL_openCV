{
  "nbformat": 4,
  "nbformat_minor": 0,
  "metadata": {
    "kernelspec": {
      "display_name": "Python 3",
      "language": "python",
      "name": "python3"
    },
    "language_info": {
      "codemirror_mode": {
        "name": "ipython",
        "version": 3
      },
      "file_extension": ".py",
      "mimetype": "text/x-python",
      "name": "python",
      "nbconvert_exporter": "python",
      "pygments_lexer": "ipython3",
      "version": "3.8.3"
    },
    "colab": {
      "provenance": [],
      "collapsed_sections": [],
      "include_colab_link": true
    },
    "accelerator": "GPU",
    "gpuClass": "standard"
  },
  "cells": [
    {
      "cell_type": "markdown",
      "metadata": {
        "id": "view-in-github",
        "colab_type": "text"
      },
      "source": [
        "<a href=\"https://colab.research.google.com/github/stevenhastings/NFL_openCV/blob/main/2_Opening_Video_Files.ipynb\" target=\"_parent\"><img src=\"https://colab.research.google.com/assets/colab-badge.svg\" alt=\"Open In Colab\"/></a>"
      ]
    },
    {
      "cell_type": "markdown",
      "metadata": {
        "id": "OTAHh6hVYt4A"
      },
      "source": [
        "![](https://github.com/rajeevratan84/ModernComputerVision/raw/main/logo_MCV_W.png)\n",
        "# **Openning Videos in OpenCV**\n",
        "\n",
        "**In this lesson we'll learn:**\n",
        "1. Open a video using cv2.VideoCapture()\n",
        "\n",
        "**NOTE:**\n",
        "\n",
        "AVI video formats are universally supported by all versions of OpenCV so if you're prioritizing cross platform compatibility use .AVI files.\n",
        "\n",
        "**Other commonly suppported Video Codecs**\n",
        "1. MPEG4 or MP4\n",
        "2. FLV\n",
        "\n",
        "The full list of codecs you may use on a system depends on just what one you have installed."
      ]
    },
    {
      "cell_type": "code",
      "source": [
        "from google.colab import drive\n",
        "drive.mount('/content/drive')"
      ],
      "metadata": {
        "colab": {
          "base_uri": "https://localhost:8080/"
        },
        "id": "aDO8dFwZl25a",
        "outputId": "f98d9ecc-6699-4b82-8c35-7aebda440ebf"
      },
      "execution_count": 1,
      "outputs": [
        {
          "output_type": "stream",
          "name": "stdout",
          "text": [
            "Mounted at /content/drive\n"
          ]
        }
      ]
    },
    {
      "cell_type": "code",
      "metadata": {
        "id": "qCX0RgGzYt4C"
      },
      "source": [
        "import cv2\n",
        "from google.colab.patches import cv2_imshow\n",
        "\n",
        "cap = cv2.VideoCapture('/content/drive/MyDrive/NFL_DATA/Film/Week1/BillsRamsWeek1.mov')\n",
        "\n",
        "while cap.isOpened():\n",
        "    \n",
        "    ret, frame = cap.read()\n",
        "    \n",
        "    # if frame is read correctly ret is True\n",
        "    if not ret:\n",
        "        print(\"Stream stopped.\")\n",
        "        break\n",
        "\n",
        "    cv2_imshow(frame)\n",
        "    \n",
        "    if cv2.waitKey(1) == ord('q'):\n",
        "        break\n",
        "    \n",
        "        \n",
        "cap.release()\n",
        "cv2.destroyAllWindows()"
      ],
      "execution_count": 4,
      "outputs": []
    },
    {
      "cell_type": "markdown",
      "metadata": {
        "id": "Q2XwyU0DYt4F"
      },
      "source": [
        "### Check Video Streams before processing"
      ]
    },
    {
      "cell_type": "code",
      "metadata": {
        "id": "kZmmaGIiYt4F",
        "outputId": "1d1a9451-2b8b-4a36-ed3b-1e2043761a9c",
        "colab": {
          "base_uri": "https://localhost:8080/"
        }
      },
      "source": [
        "import cv2\n",
        "\n",
        "cap = cv2.VideoCapture('/content/drive/MyDrive/NFL_DATA/Film/Week1/BillsRamsWeek1.mov')\n",
        "\n",
        "if not cap.isOpened():\n",
        "    print(\"Cannot open camera\")\n",
        "    exit()\n",
        "\n",
        "while cap.isOpened():\n",
        "    \n",
        "    ret, frame = cap.read()\n",
        "    \n",
        "    # if frame is read correctly ret is True\n",
        "    if not ret:\n",
        "        print(\"Stream stopped.\")\n",
        "        break\n",
        "\n",
        "    cv2_imshow(frame)\n",
        "    \n",
        "    if cv2.waitKey(1) == ord('q'):\n",
        "        break\n",
        "    \n",
        "        \n",
        "cap.release()\n",
        "cv2.destroyAllWindows()"
      ],
      "execution_count": 2,
      "outputs": [
        {
          "output_type": "stream",
          "name": "stdout",
          "text": [
            "Cannot open camera\n"
          ]
        }
      ]
    },
    {
      "cell_type": "markdown",
      "metadata": {
        "id": "VZRFV9CjYt4G"
      },
      "source": [
        "## ```cap.get(id)``` \n",
        "Is a method where id is a number from 0 to 18. Each number denotes a property of the video (if it is applicable to that video)"
      ]
    },
    {
      "cell_type": "code",
      "metadata": {
        "id": "zyi9DZv5Yt4G",
        "outputId": "16b7ca46-2483-400b-d329-fe1e90c43aa3",
        "colab": {
          "base_uri": "https://localhost:8080/"
        }
      },
      "source": [
        "import cv2\n",
        "\n",
        "cap = cv2.VideoCapture('/content/drive/MyDrive/NFL_DATA/Film/Week1/BillsRamsWeek1.mov')\n",
        "\n",
        "for i in range(0,18):\n",
        "    print(cap.get(i))"
      ],
      "execution_count": 1,
      "outputs": [
        {
          "output_type": "stream",
          "name": "stdout",
          "text": [
            "0.0\n",
            "0.0\n",
            "0.0\n",
            "0.0\n",
            "0.0\n",
            "0.0\n",
            "0.0\n",
            "0.0\n",
            "0.0\n",
            "0.0\n",
            "0.0\n",
            "0.0\n",
            "0.0\n",
            "0.0\n",
            "0.0\n",
            "0.0\n",
            "0.0\n",
            "0.0\n"
          ]
        }
      ]
    },
    {
      "cell_type": "markdown",
      "metadata": {
        "id": "GWWX4woPYt4H"
      },
      "source": [
        "**You can see index 3 and 4 correspond to the video dimensions**"
      ]
    },
    {
      "cell_type": "code",
      "metadata": {
        "id": "ri8XoZCvYt4I"
      },
      "source": [],
      "execution_count": null,
      "outputs": []
    }
  ]
}